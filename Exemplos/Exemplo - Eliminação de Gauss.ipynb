{
 "cells": [
  {
   "cell_type": "code",
   "execution_count": 66,
   "metadata": {
    "collapsed": true
   },
   "outputs": [],
   "source": [
    "import numpy as np"
   ]
  },
  {
   "cell_type": "markdown",
   "metadata": {},
   "source": [
    "Etapas do algoritmo (eliminação de Gauss)\n",
    "\n",
    "0. Adiciona a coluna b à direita da matriz\n",
    "1. Seleciona a coluna k (começando da primeira)\n",
    "2. Ordena as linhas do maior pivo para o menor\n",
    "3. Subtrai Li = Li - x/y Lk, x = L[i, k] e y = L[k, k]\n",
    "4. Itera até chegar na forma triangular superior\n",
    "5. Resolve por substituição"
   ]
  },
  {
   "cell_type": "code",
   "execution_count": 21,
   "metadata": {},
   "outputs": [],
   "source": [
    "# No numpy\n",
    "# Declara a matriz do sistema linear\n",
    "M = np.array([\n",
    "    [  1, 2, 1],\n",
    "    [  2, 0, 0],\n",
    "    [  3, 2, 0],\n",
    "])\n",
    "\n",
    "# Declaramos o vetor no lado direito da equação\n",
    "b = np.array([1, 6, 0], dtype=float)"
   ]
  },
  {
   "cell_type": "code",
   "execution_count": 24,
   "metadata": {},
   "outputs": [
    {
     "data": {
      "text/plain": [
       "array([ 4.,  0., -2.])"
      ]
     },
     "execution_count": 24,
     "metadata": {},
     "output_type": "execute_result"
    }
   ],
   "source": [
    "# Resolver M * x = b utilizando o método np.linalg.solve\n",
    "# Qual o valor de x?\n",
    "\n",
    "np.linalg.solve(M, b)"
   ]
  }
 ],
 "metadata": {
  "kernelspec": {
   "display_name": "Python 3",
   "language": "python",
   "name": "python3"
  },
  "language_info": {
   "codemirror_mode": {
    "name": "ipython",
    "version": 3
   },
   "file_extension": ".py",
   "mimetype": "text/x-python",
   "name": "python",
   "nbconvert_exporter": "python",
   "pygments_lexer": "ipython3",
   "version": "3.6.1"
  }
 },
 "nbformat": 4,
 "nbformat_minor": 2
}

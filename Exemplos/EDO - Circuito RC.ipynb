{
 "cells": [
  {
   "cell_type": "code",
   "execution_count": 11,
   "metadata": {},
   "outputs": [
    {
     "name": "stdout",
     "output_type": "stream",
     "text": [
      "Populating the interactive namespace from numpy and matplotlib\n"
     ]
    }
   ],
   "source": [
    "%pylab inline"
   ]
  },
  {
   "cell_type": "code",
   "execution_count": 12,
   "metadata": {},
   "outputs": [],
   "source": [
    "# Constantes do problema\n",
    "R = 1\n",
    "C = 10\n",
    "q0 = 100\n",
    "\n",
    "# Constantes da solução\n",
    "N = 21 # número de pontos\n",
    "dt = 10\n",
    "t = np.linspace(0, dt*(N-1), N)\n",
    "\n",
    "# EDO\n",
    "def dq(t, q):\n",
    "    return -q / R / C"
   ]
  },
  {
   "cell_type": "code",
   "execution_count": 13,
   "metadata": {},
   "outputs": [],
   "source": [
    "# Solução Analítica\n",
    "q1 = q0 * np.exp(-t / R / C)"
   ]
  },
  {
   "cell_type": "code",
   "execution_count": 14,
   "metadata": {},
   "outputs": [],
   "source": [
    "# Método de Euler\n",
    "q2 = np.zeros(N)\n",
    "q2[0] = q0\n",
    "for i in range(1, N):\n",
    "    q2[i] = q2[i-1] + dt*dq((i-1)*dt, q2[i-1])"
   ]
  },
  {
   "cell_type": "code",
   "execution_count": 15,
   "metadata": {},
   "outputs": [],
   "source": [
    "# Método de Euler Modificado\n",
    "q3 = np.zeros(N)\n",
    "q3[0] = q0\n",
    "for i in range(1, N):\n",
    "    k1 = dt * dq((i-1)*dt, q3[i-1])\n",
    "    k2 = dt * dq(i*dt,     q3[i-1] + k1)\n",
    "    q3[i] = q3[i-1] + (k1 + k2) / 2"
   ]
  },
  {
   "cell_type": "code",
   "execution_count": 16,
   "metadata": {},
   "outputs": [],
   "source": [
    "# Método do Ponto Médio\n",
    "q4 = np.zeros(N)\n",
    "q4[0] = q0\n",
    "for i in range(1, N):\n",
    "    k1 = dt * dq((i-1)*dt, q4[i-1])\n",
    "    k2 = dt * dq(i*dt,     q4[i-1] + k1/2)\n",
    "    q4[i] = q4[i-1] + k2"
   ]
  },
  {
   "cell_type": "code",
   "execution_count": 17,
   "metadata": {},
   "outputs": [],
   "source": [
    "# Método de Runge-Kutta de 4a ordem\n",
    "q5 = np.zeros(N)\n",
    "q5[0] = q0\n",
    "for i in range(1, N):\n",
    "    k1 = dt * dq((i-1)*dt,        q5[i-1])\n",
    "    k2 = dt * dq((i-1)*dt + dt/2, q5[i-1] + k1/2)\n",
    "    k3 = dt * dq((i-1)*dt + dt/2, q5[i-1] + k2/2)\n",
    "    k4 = dt * dq((i-1)*dt + dt,   q5[i-1] + k3)\n",
    "    q5[i] = q5[i-1] + (k1 + 2*k2 + 2*k3 + k4) / 6"
   ]
  },
  {
   "cell_type": "code",
   "execution_count": 18,
   "metadata": {},
   "outputs": [],
   "source": [
    "# Método de Taylor de 2a ordem\n",
    "q6 = np.zeros(N)\n",
    "q6[0] = q0\n",
    "\n",
    "def d2q(t, q):\n",
    "    return q / (R*C)**2\n",
    "\n",
    "for i in range(1, N):\n",
    "    q6[i] = q6[i-1] + dt * dq((i-1)*dt, q6[i-1]) + (dt**2/2)*d2q((i-1)*dt, q6[i-1])"
   ]
  },
  {
   "cell_type": "code",
   "execution_count": 19,
   "metadata": {},
   "outputs": [
    {
     "data": {
      "text/plain": [
       "<matplotlib.legend.Legend at 0x7f536a4cef98>"
      ]
     },
     "execution_count": 19,
     "metadata": {},
     "output_type": "execute_result"
    },
    {
     "data": {
      "image/png": "[encoded data removed]",
      "text/plain": [
       "<matplotlib.figure.Figure at 0x7f53941fce80>"
      ]
     },
     "metadata": {},
     "output_type": "display_data"
    }
   ],
   "source": [
    "# Visualização dos resultados\n",
    "plt.plot(t, q1, '.')\n",
    "plt.plot(t, q2)\n",
    "plt.plot(t, q3)\n",
    "plt.plot(t, q4)\n",
    "plt.plot(t, q5, '--')\n",
    "plt.plot(t, q6)\n",
    "plt.grid(True)\n",
    "plt.legend(['Analítico', 'Euler', 'Euler Mod.', 'Ponto Médio', 'rk4', 'Taylor 2a'])"
   ]
  }
 ],
 "metadata": {
  "kernelspec": {
   "display_name": "Python 3",
   "language": "python",
   "name": "python3"
  },
  "language_info": {
   "codemirror_mode": {
    "name": "ipython",
    "version": 3
   },
   "file_extension": ".py",
   "mimetype": "text/x-python",
   "name": "python",
   "nbconvert_exporter": "python",
   "pygments_lexer": "ipython3",
   "version": "3.5.2"
  }
 },
 "nbformat": 4,
 "nbformat_minor": 2
}

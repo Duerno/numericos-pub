{
 "cells": [
  {
   "cell_type": "code",
   "execution_count": 1,
   "metadata": {},
   "outputs": [
    {
     "name": "stdout",
     "output_type": "stream",
     "text": [
      "Populating the interactive namespace from numpy and matplotlib\n"
     ]
    }
   ],
   "source": [
    "%pylab inline"
   ]
  },
  {
   "cell_type": "code",
   "execution_count": 26,
   "metadata": {},
   "outputs": [],
   "source": [
    "# Constantes do problema\n",
    "R = 1\n",
    "L = 10\n",
    "C = 2\n",
    "I0 = 0\n",
    "q0 = 10\n",
    "\n",
    "# Constantes da solução\n",
    "N = 101 # número de pontos\n",
    "dt = 1\n",
    "t = np.linspace(0, dt*(N-1), N)\n",
    "\n",
    "# EDOs\n",
    "def dq(t, q, I):\n",
    "    return I\n",
    "def dI(t, q, I):\n",
    "    return -(R/L)*I -q/(L*C)"
   ]
  },
  {
   "cell_type": "code",
   "execution_count": 27,
   "metadata": {},
   "outputs": [],
   "source": [
    "# Método de Euler\n",
    "q1 = np.zeros(N)\n",
    "I1 = np.zeros(N)\n",
    "q1[0],I1[0] = q0,I0\n",
    "\n",
    "for i in range(1, N):\n",
    "    q1[i] = q1[i-1] + dt * dq(t[i-1], q1[i-1], I1[i-1])\n",
    "    I1[i] = I1[i-1] + dt * dI(t[i-1], q1[i-1], I1[i-1])"
   ]
  },
  {
   "cell_type": "code",
   "execution_count": 28,
   "metadata": {},
   "outputs": [],
   "source": [
    "# Método de Euler Modificado\n",
    "q2 = np.zeros(N)\n",
    "I2 = np.zeros(N)\n",
    "q2[0],I2[0] = q0,I0\n",
    "\n",
    "for i in range(1, N):\n",
    "    k1 = dt * dq(t[i-1], q2[i-1], I2[i-1])\n",
    "    l1 = dt * dI(t[i-1], q2[i-1], I2[i-1])\n",
    "    \n",
    "    k2 = dt * dq(t[i], q2[i-1] + k1, I2[i-1] + l1)\n",
    "    l2 = dt * dI(t[i], q2[i-1] + k1, I2[i-1] + l1)\n",
    "    \n",
    "    q2[i] = q2[i-1] + (k1 + k2) / 2\n",
    "    I2[i] = I2[i-1] + (l1 + l2) / 2"
   ]
  },
  {
   "cell_type": "code",
   "execution_count": 29,
   "metadata": {},
   "outputs": [],
   "source": [
    "# Método do Ponto Médio\n",
    "q3 = np.zeros(N)\n",
    "I3 = np.zeros(N)\n",
    "q3[0],I3[0] = q0,I0\n",
    "\n",
    "for i in range(1, N):\n",
    "    k1 = dt * dq(t[i-1], q3[i-1], I3[i-1])\n",
    "    l1 = dt * dI(t[i-1], q3[i-1], I3[i-1])\n",
    "    \n",
    "    k2 = dt * dq(t[i-1] + dt/2, q3[i-1] + k1/2, I3[i-1] + l1/2)\n",
    "    l2 = dt * dI(t[i-1] + dt/2, q3[i-1] + k1/2, I3[i-1] + l1/2)\n",
    "    \n",
    "    q3[i] = q3[i-1] + k2\n",
    "    I3[i] = I3[i-1] + l2"
   ]
  },
  {
   "cell_type": "code",
   "execution_count": 30,
   "metadata": {},
   "outputs": [],
   "source": [
    "# Método de Runge-Kutta de 4a ordem\n",
    "q4 = np.zeros(N)\n",
    "I4 = np.zeros(N)\n",
    "q4[0],I4[0] = q0,I0\n",
    "\n",
    "for i in range(1, N):\n",
    "    k1 = dt * dq(t[i-1], q4[i-1], I4[i-1])\n",
    "    l1 = dt * dI(t[i-1], q4[i-1], I4[i-1])\n",
    "    \n",
    "    k2 = dt * dq(t[i-1] + dt/2, q4[i-1] + k1/2, I4[i-1] + l1/2)\n",
    "    l2 = dt * dI(t[i-1] + dt/2, q4[i-1] + k1/2, I4[i-1] + l1/2)\n",
    "    \n",
    "    k3 = dt * dq(t[i-1] + dt/2, q4[i-1] + k2/2, I4[i-1] + l2/2)\n",
    "    l3 = dt * dI(t[i-1] + dt/2, q4[i-1] + k2/2, I4[i-1] + l2/2)\n",
    "    \n",
    "    k4 = dt * dq(t[i], q4[i-1] + k3, I4[i-1] + l3)\n",
    "    l4 = dt * dI(t[i], q4[i-1] + k3, I4[i-1] + l3)\n",
    "    \n",
    "    q4[i] = q4[i-1] + (k1 + 2*k2 + 2*k3 + k4) / 6\n",
    "    I4[i] = I4[i-1] + (l1 + 2*l2 + 2*l3 + l4) / 6"
   ]
  },
  {
   "cell_type": "code",
   "execution_count": 31,
   "metadata": {},
   "outputs": [
    {
     "data": {
      "text/plain": [
       "<matplotlib.legend.Legend at 0x7fe81a112e80>"
      ]
     },
     "execution_count": 31,
     "metadata": {},
     "output_type": "execute_result"
    },
    {
     "data": {
      "image/png": "[encoded data removed]",
      "text/plain": [
       "<matplotlib.figure.Figure at 0x7fe81a13f240>"
      ]
     },
     "metadata": {},
     "output_type": "display_data"
    }
   ],
   "source": [
    "plt.plot(t, q1)\n",
    "plt.plot(t, q2)\n",
    "plt.plot(t, q3)\n",
    "plt.plot(t, q4, '--')\n",
    "plt.grid(True)\n",
    "plt.legend(['Euler', 'Euler Mod.', 'Ponto Médio', 'rk4'])"
   ]
  }
 ],
 "metadata": {
  "kernelspec": {
   "display_name": "Python 3",
   "language": "python",
   "name": "python3"
  },
  "language_info": {
   "codemirror_mode": {
    "name": "ipython",
    "version": 3
   },
   "file_extension": ".py",
   "mimetype": "text/x-python",
   "name": "python",
   "nbconvert_exporter": "python",
   "pygments_lexer": "ipython3",
   "version": "3.5.2"
  }
 },
 "nbformat": 4,
 "nbformat_minor": 2
}

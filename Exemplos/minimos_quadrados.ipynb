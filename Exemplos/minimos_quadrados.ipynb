{
 "cells": [
  {
   "cell_type": "code",
   "execution_count": 5,
   "metadata": {
    "collapsed": true
   },
   "outputs": [],
   "source": [
    "import numpy as np\n",
    "import matplotlib.pyplot as plt"
   ]
  },
  {
   "cell_type": "code",
   "execution_count": 31,
   "metadata": {
    "collapsed": true
   },
   "outputs": [],
   "source": [
    "# Conjunto de dados\n",
    "X = np.linspace(-10, 10, 5)\n",
    "Y = 3 * np.cos(X) + np.random.normal(size=len(X))"
   ]
  },
  {
   "cell_type": "code",
   "execution_count": 42,
   "metadata": {},
   "outputs": [],
   "source": [
    "# Grau do polinômio aproximante\n",
    "# Função: c0 + c1 * x + c2 * x**2 + ...\n",
    "# Chamamos fk(x) = x**k\n",
    "degree = 2\n",
    "n = len(X)\n",
    "\n",
    "# Criamos uma matriz F_ki para armazenar \n",
    "# todos os termos f_k(x_i)\n",
    "F = np.zeros([degree + 1, n])\n",
    "for i in range(degree + 1):\n",
    "    F[i] = X**i"
   ]
  },
  {
   "cell_type": "code",
   "execution_count": 43,
   "metadata": {},
   "outputs": [],
   "source": [
    "# Matriz M com os termos <fk * fk'>\n",
    "M = np.zeros([degree + 1, degree + 1])\n",
    "for k in range(degree + 1):\n",
    "    for k_ in range(degree + 1):\n",
    "        M[k, k_] = np.mean(F[k] * F[k_])"
   ]
  },
  {
   "cell_type": "code",
   "execution_count": 44,
   "metadata": {},
   "outputs": [],
   "source": [
    "# Vetor com os termos <y fk>\n",
    "b = np.zeros(degree + 1)\n",
    "for k in range(degree + 1):\n",
    "    b[k] = np.mean(Y * F[k])"
   ]
  },
  {
   "cell_type": "code",
   "execution_count": 45,
   "metadata": {},
   "outputs": [],
   "source": [
    "# Resolvemos o sistema para obter os coeficientes\n",
    "coeffs = np.linalg.solve(M, b)\n",
    "xx = np.linspace(-10, 10, 100)\n",
    "yy = sum(coeffs[i] * xx**i for i in range(degree + 1))"
   ]
  },
  {
   "cell_type": "code",
   "execution_count": 41,
   "metadata": {},
   "outputs": [
    {
     "data": {
      "image/png": "[encoded data removed]",
      "text/plain": [
       "<matplotlib.figure.Figure at 0x7f39ea1c1b38>"
      ]
     },
     "metadata": {},
     "output_type": "display_data"
    }
   ],
   "source": [
    "# Gráfico dos resultados\n",
    "plt.plot(X, Y, 'o')\n",
    "plt.plot(xx, yy)\n",
    "plt.show()"
   ]
  }
 ],
 "metadata": {
  "kernelspec": {
   "display_name": "Python 3",
   "language": "python",
   "name": "python3"
  },
  "language_info": {
   "codemirror_mode": {
    "name": "ipython",
    "version": 3
   },
   "file_extension": ".py",
   "mimetype": "text/x-python",
   "name": "python",
   "nbconvert_exporter": "python",
   "pygments_lexer": "ipython3",
   "version": "3.6.1"
  }
 },
 "nbformat": 4,
 "nbformat_minor": 2
}

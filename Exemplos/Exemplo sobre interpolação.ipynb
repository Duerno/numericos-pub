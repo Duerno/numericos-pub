{
 "cells": [
  {
   "cell_type": "code",
   "execution_count": 1,
   "metadata": {},
   "outputs": [
    {
     "name": "stdout",
     "output_type": "stream",
     "text": [
      "Populating the interactive namespace from numpy and matplotlib\n"
     ]
    }
   ],
   "source": [
    "# Import numpy and matplotlib\n",
    "%pylab inline"
   ]
  },
  {
   "cell_type": "code",
   "execution_count": 2,
   "metadata": {},
   "outputs": [],
   "source": [
    "# Constant interpolation\n",
    "def constant(X, Y, x0):\n",
    "    \"\"\" Constant Interpolation: find an approximation for f(x0) by constant\n",
    "        interpolating the known points (X,Y).\n",
    "        \n",
    "        args:\n",
    "        X: ordered vector of known points in x-axis.\n",
    "        Y: vector of known points in y-axis, where Y[i] = f(X[i]).\n",
    "        x0: arbitrary point between [X[0], X[-1]]\n",
    "        \n",
    "        return:\n",
    "        approx of f(x0), if x0 is inside [X[0], X[-1]];\n",
    "        float('nan'), otherwise.\n",
    "    \"\"\"\n",
    "    \n",
    "    # test whether x0 is inside [X[0], X[-1]].\n",
    "    if x0 < X[0] or x0 > X[-1]:\n",
    "        return float('nan')\n",
    "    \n",
    "    # binary search idx.\n",
    "    # idx: least integer such that X[idx] >= x0.\n",
    "    begin, end = 0, len(X) - 1\n",
    "    while begin < end:\n",
    "        middle = (begin + end) // 2\n",
    "        if x0 < X[middle]:\n",
    "            end = middle\n",
    "        else:\n",
    "            begin = middle + 1\n",
    "    idx = end \n",
    "    \n",
    "    # return the knonwn point nearest to x0.\n",
    "    if idx == 0:\n",
    "        return Y[0]\n",
    "    elif abs(x0 - X[idx]) > abs(x0 - X[idx - 1]):\n",
    "        return Y[idx - 1]\n",
    "    else:\n",
    "        return Y[idx]"
   ]
  },
  {
   "cell_type": "code",
   "execution_count": 3,
   "metadata": {},
   "outputs": [],
   "source": [
    "# Linear interpolation\n",
    "def linear(X, Y, x0):\n",
    "    \"\"\" Linear Interpolation: find an approximation for f(x0) by linear\n",
    "        interpolating the known points (X,Y).\n",
    "        \n",
    "        args:\n",
    "        X: ordered vector of known points in x-axis.\n",
    "        Y: vector of known points in y-axis, where Y[i] = f(X[i]).\n",
    "        x0: arbitrary point between [X[0], X[-1]]\n",
    "        \n",
    "        return:\n",
    "        approx of f(x0), if x0 is inside [X[0], X[-1]];\n",
    "        float('nan'), otherwise.\n",
    "    \"\"\"\n",
    "    \n",
    "    # test whether x0 is inside [X[0], X[-1]].\n",
    "    if x0 < X[0] or x0 > X[-1]:\n",
    "        return float('nan')\n",
    "    \n",
    "    # binary search i.\n",
    "    # i: least integer such that X[i] >= x0.\n",
    "    begin, end = 0, len(X) - 1\n",
    "    while begin < end:\n",
    "        middle = (begin + end) // 2\n",
    "        if x0 < X[middle]:\n",
    "            end = middle\n",
    "        else:\n",
    "            begin = middle + 1\n",
    "    i = end \n",
    "    \n",
    "    # return the approximation of f(x0).\n",
    "    if i == 0:\n",
    "        return Y[0]\n",
    "    else:\n",
    "        A = (Y[i] - Y[i-1]) / (X[i] - X[i-1])\n",
    "        B = (Y[i-1]*X[i] - Y[i]*X[i-1]) / (X[i] - X[i-1])\n",
    "        return A*x0 + B"
   ]
  },
  {
   "cell_type": "code",
   "execution_count": 4,
   "metadata": {},
   "outputs": [],
   "source": [
    "# Polynomial interpolation\n",
    "def P(A, x0):\n",
    "    \"\"\" P function: given an array A containing the coefficients of a certain\n",
    "        polynomial P(x):\n",
    "            P(x) = A[0] + A[1]*x + A[2]*x**2 + ... + A[N-1]*x**(N-1)\n",
    "        returns y0 = P(x0).\n",
    "    \"\"\"\n",
    "    y0 = 0\n",
    "    for i in range(len(A)):\n",
    "        y0 += A[i] * x0**i\n",
    "    return y0\n",
    "\n",
    "def polynomial(X, Y):\n",
    "    \"\"\" Polynomial Interpolation: find the coefficients of the interpolating\n",
    "        polynomial for the known points (X,Y). This polynomial P(x) is the\n",
    "        approximation of f(x).\n",
    "        \n",
    "        args:\n",
    "        X: ordered vector of known points in x-axis.\n",
    "        Y: vector of known points in y-axis, where Y[i] = f(X[i]).\n",
    "        \n",
    "        This function returns the coefficients A of the interpolating\n",
    "        polynomial P(x):\n",
    "            P(x) = A[0] + A[1]*x + A[2]*x**2 + ... + A[N-1]*x**(N-1)\n",
    "        where N is the number of known points.\n",
    "    \"\"\"\n",
    "    N = len(X)\n",
    "    M = np.ones((N,N))\n",
    "    for i in range(1,N):\n",
    "        M[:,i] = M[:,i-1] * X\n",
    "    return np.linalg.solve(M, Y)"
   ]
  },
  {
   "cell_type": "code",
   "execution_count": 5,
   "metadata": {},
   "outputs": [
    {
     "data": {
      "text/plain": [
       "[<matplotlib.lines.Line2D at 0x7ff640c06048>]"
      ]
     },
     "execution_count": 5,
     "metadata": {},
     "output_type": "execute_result"
    },
    {
     "data": {
      "image/png": "[encoded data removed]",
      "text/plain": [
       "<matplotlib.figure.Figure at 0x7ff66d9060f0>"
      ]
     },
     "metadata": {},
     "output_type": "display_data"
    }
   ],
   "source": [
    "# Test methods\n",
    "\n",
    "X = [  1,   2,   3,   4,   5]\n",
    "Y = [1.5, 0.3, 2.1, 2.8, 1.6]\n",
    "\n",
    "X_plt = linspace(X[0], X[-1], 1000)\n",
    "\n",
    "Y_constant = np.zeros(len(X_plt))\n",
    "for i in range(len(X_plt)):\n",
    "    Y_constant[i] = constant(X, Y, X_plt[i])\n",
    "    \n",
    "Y_linear = np.zeros(len(X_plt))\n",
    "for i in range(len(X_plt)):\n",
    "    Y_linear[i] = linear(X, Y, X_plt[i])\n",
    "\n",
    "Y_polynomial = np.zeros(len(X_plt))\n",
    "A = polynomial(X, Y)\n",
    "for i in range(len(X_plt)):\n",
    "    Y_polynomial[i] = P(A, X_plt[i])\n",
    "\n",
    "plt.plot(X_plt, Y_constant)\n",
    "plt.plot(X_plt, Y_linear)\n",
    "plt.plot(X_plt, Y_polynomial)\n",
    "plt.grid(True)\n",
    "plt.title('Interpolation Methods')\n",
    "plt.legend(['Constant', 'Linear', 'Polynomial'])\n",
    "plt.plot(X, Y, 'o')"
   ]
  },
  {
   "cell_type": "code",
   "execution_count": null,
   "metadata": {},
   "outputs": [],
   "source": []
  }
 ],
 "metadata": {
  "kernelspec": {
   "display_name": "Python 3",
   "language": "python",
   "name": "python3"
  },
  "language_info": {
   "codemirror_mode": {
    "name": "ipython",
    "version": 3
   },
   "file_extension": ".py",
   "mimetype": "text/x-python",
   "name": "python",
   "nbconvert_exporter": "python",
   "pygments_lexer": "ipython3",
   "version": "3.5.2"
  }
 },
 "nbformat": 4,
 "nbformat_minor": 2
}

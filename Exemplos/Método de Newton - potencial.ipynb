{
 "cells": [
  {
   "cell_type": "code",
   "execution_count": 3,
   "metadata": {
    "collapsed": true
   },
   "outputs": [],
   "source": [
    "import numpy as np\n",
    "import matplotlib.pyplot as plt"
   ]
  },
  {
   "cell_type": "code",
   "execution_count": 51,
   "metadata": {},
   "outputs": [
    {
     "data": {
      "image/png": "[encoded data removed]",
      "text/plain": [
       "<matplotlib.figure.Figure at 0x7fe2fee37240>"
      ]
     },
     "metadata": {},
     "output_type": "display_data"
    }
   ],
   "source": [
    "# Gráfico do potencial de Lenard-Jones\n",
    "def f(x):\n",
    "    return 1/x**12 - 1/x**6\n",
    "\n",
    "X = np.linspace(1, 2, 100)\n",
    "plt.plot(X, f(X))\n",
    "plt.show()"
   ]
  },
  {
   "cell_type": "code",
   "execution_count": 53,
   "metadata": {},
   "outputs": [
    {
     "name": "stdout",
     "output_type": "stream",
     "text": [
      "-1/x**6 + x**(-12)\n",
      "6/x**7 - 12/x**13\n",
      "6*(-7 + 26/x**6)/x**8\n"
     ]
    }
   ],
   "source": [
    "# Definimos a função e suas derivadas algebricamente\n",
    "# Mandamos imprimir e copiamos e colamos as expressões\n",
    "from sympy import symbols, diff\n",
    "\n",
    "x = symbols('x')\n",
    "expr = 1/x**12 - 1/x**6\n",
    "print(expr)\n",
    "print(diff(expr, x))\n",
    "print(diff(expr, x, x))"
   ]
  },
  {
   "cell_type": "code",
   "execution_count": 55,
   "metadata": {},
   "outputs": [],
   "source": [
    "# Definimos f e suas derivadas\n",
    "def f(x):\n",
    "    return -1/x**6 + x**(-12)\n",
    "\n",
    "def df(x):\n",
    "    return 6/x**7 - 12/x**13\n",
    "\n",
    "def ddf(x):\n",
    "    return 6*(-7 + 26/x**6)/x**8"
   ]
  },
  {
   "cell_type": "code",
   "execution_count": 57,
   "metadata": {
    "scrolled": true
   },
   "outputs": [
    {
     "name": "stdout",
     "output_type": "stream",
     "text": [
      "4.2856358997338795\n",
      "3.6732326999510416\n",
      "3.1481183960226478\n",
      "2.697592154416446\n",
      "2.3104907949108986\n",
      "1.9766082795459947\n",
      "1.6855798298121343\n",
      "1.4233059743096035\n",
      "1.1441904716053921\n",
      "1.1170863342574462\n",
      "1.1222031567887862\n",
      "1.1224614226607585\n",
      "1.1224620483057113\n",
      "1.122462048309373\n",
      "1.122462048309373\n",
      "1.122462048309373\n",
      "1.122462048309373\n",
      "1.122462048309373\n",
      "1.122462048309373\n",
      "1.122462048309373\n"
     ]
    }
   ],
   "source": [
    "# Executamos o método de Newton com \n",
    "# a correção na derivada segunda\n",
    "# Observe que ele converge para o valor correto!\n",
    "x = 5\n",
    "for i in range(20):\n",
    "    x = x - df(x) / abs(ddf(x))\n",
    "    print(x)"
   ]
  }
 ],
 "metadata": {
  "kernelspec": {
   "display_name": "Python 3",
   "language": "python",
   "name": "python3"
  },
  "language_info": {
   "codemirror_mode": {
    "name": "ipython",
    "version": 3
   },
   "file_extension": ".py",
   "mimetype": "text/x-python",
   "name": "python",
   "nbconvert_exporter": "python",
   "pygments_lexer": "ipython3",
   "version": "3.6.1"
  }
 },
 "nbformat": 4,
 "nbformat_minor": 2
}

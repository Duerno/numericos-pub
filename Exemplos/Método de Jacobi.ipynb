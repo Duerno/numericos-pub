{
 "cells": [
  {
   "cell_type": "markdown",
   "metadata": {},
   "source": [
    "# Métodos iterativos para solução de sistemas lineares"
   ]
  },
  {
   "cell_type": "code",
   "execution_count": 1,
   "metadata": {
    "collapsed": true
   },
   "outputs": [],
   "source": [
    "import numpy as np"
   ]
  },
  {
   "cell_type": "code",
   "execution_count": 36,
   "metadata": {
    "collapsed": true
   },
   "outputs": [],
   "source": [
    "# Vamos resolver o sistema linear Mx = b.\n",
    "# Para isto, declaramos a matriz M e o vetor b\n",
    "M = np.array([\n",
    "    [-5.1, 2, 3],\n",
    "    [5, 8, 2],\n",
    "    [1, 0, 3],\n",
    "])\n",
    "b = np.array([1, 2, 3])"
   ]
  },
  {
   "cell_type": "code",
   "execution_count": 37,
   "metadata": {},
   "outputs": [
    {
     "data": {
      "text/plain": [
       "array([ 0.27842227, -0.15081206,  0.90719258])"
      ]
     },
     "execution_count": 37,
     "metadata": {},
     "output_type": "execute_result"
    }
   ],
   "source": [
    "# Encontramos a resposta explicitamente como referência\n",
    "np.linalg.solve(M, b)"
   ]
  },
  {
   "cell_type": "markdown",
   "metadata": {},
   "source": [
    "## Método de Jacobi"
   ]
  },
  {
   "cell_type": "code",
   "execution_count": 38,
   "metadata": {},
   "outputs": [
    {
     "name": "stdout",
     "output_type": "stream",
     "text": [
      "diagonal inversa:\n",
      "[[-0.19607843  0.          0.        ]\n",
      " [ 0.          0.125       0.        ]\n",
      " [ 0.          0.          0.33333333]]\n"
     ]
    }
   ],
   "source": [
    "# Extraímos a matriz diagonal inversa\n",
    "Dinv = np.diag(1 / np.diag(M))\n",
    "D = np.diag(np.diag(M))\n",
    "\n",
    "print('diagonal inversa:')\n",
    "print(Dinv)"
   ]
  },
  {
   "cell_type": "code",
   "execution_count": 39,
   "metadata": {},
   "outputs": [
    {
     "name": "stdout",
     "output_type": "stream",
     "text": [
      "matriz resto:\n",
      "[[ 0.  2.  3.]\n",
      " [ 5.  0.  2.]\n",
      " [ 1.  0.  0.]]\n"
     ]
    }
   ],
   "source": [
    "# Extraímos a matriz R\n",
    "R = M - D\n",
    "\n",
    "print('matriz resto:')\n",
    "print(R)"
   ]
  },
  {
   "cell_type": "code",
   "execution_count": 42,
   "metadata": {},
   "outputs": [
    {
     "name": "stdout",
     "output_type": "stream",
     "text": [
      "iteração 0\n",
      "[-7.45098039 -6.5        -3.        ]\n",
      "iteração 1\n",
      "[-4.50980392  5.65686275  3.48366013]\n",
      "iteração 2\n",
      "[ 4.07151096  2.19771242  2.50326797]\n",
      "iteração 3\n",
      "[ 2.13828015 -2.92051134 -0.35717032]\n",
      "iteração 4\n",
      "[-1.55147718 -0.99713251  0.28723995]\n",
      "iteração 5\n",
      "[-0.41814611  1.14786325  1.51715906]\n",
      "iteração 6\n",
      "[ 1.14651053  0.13205156  1.13938204]\n",
      "iteração 7\n",
      "[ 0.52593122 -0.75141459  0.61782982]\n",
      "iteração 8\n",
      "[-0.12732151 -0.23316447  0.82468959]\n",
      "iteração 9\n",
      "[ 0.19759605  0.12340355  1.0424405 ]\n",
      "iteração 10\n",
      "[ 0.46551541 -0.13410766  0.93413465]\n",
      "iteração 11\n",
      "[ 0.3008213 -0.2744808  0.8448282]\n",
      "iteração 12\n",
      "[ 0.1932398  -0.14922036  0.89972623]\n",
      "iteração 13\n",
      "[ 0.2746545  -0.09570644  0.93558673]\n",
      "iteração 14\n",
      "[ 0.31673477 -0.15555575  0.9084485 ]\n",
      "iteração 15\n",
      "[ 0.27730078 -0.17507136  0.89442174]\n",
      "iteração 16\n",
      "[ 0.26139657 -0.14691843  0.90756641]\n",
      "iteração 17\n",
      "[ 0.28016909 -0.14026446  0.91286781]\n",
      "iteração 18\n",
      "[ 0.28589696 -0.15332263  0.9066103 ]\n",
      "iteração 19\n",
      "[ 0.27709522 -0.15533818  0.90470101]\n",
      "iteração 20\n",
      "[ 0.2751817  -0.14935977  0.90763493]\n",
      "iteração 21\n",
      "[ 0.27925201 -0.1488973   0.90827277]\n",
      "iteração 22\n",
      "[ 0.27980857 -0.1516007   0.906916  ]\n",
      "iteração 23\n",
      "[ 0.27795031 -0.15160936  0.90673048]\n",
      "iteração 24\n",
      "[ 0.27783779 -0.15040157  0.9073499 ]\n"
     ]
    }
   ],
   "source": [
    "# Escolhemos um chute inicial\n",
    "x = [ 12., -14.,  -3.]\n",
    "\n",
    "# Iteramos várias vezes\n",
    "for i in range(100):\n",
    "    y = np.dot(Dinv, (b - np.dot(R, x)))\n",
    "    delta = np.sum(np.abs(x - y))\n",
    "    if delta < 1e-3:\n",
    "        break\n",
    "    x = y\n",
    "    print('iteração', i)\n",
    "    print(x)"
   ]
  },
  {
   "cell_type": "markdown",
   "metadata": {},
   "source": [
    "## Função para resolver sistemas lineares"
   ]
  },
  {
   "cell_type": "code",
   "execution_count": 46,
   "metadata": {
    "collapsed": true
   },
   "outputs": [],
   "source": [
    "def solve(M, b, max_iter=100, tol=1e-5):\n",
    "    \"\"\"\n",
    "    Resolve o sistema linear M x = b, retornando x.\n",
    "    \n",
    "    Utiliza o método de Jacobi.\n",
    "    \"\"\"\n",
    "    M = np.asarray(M)\n",
    "    b = np.asarray(b)\n",
    "    \n",
    "    # Extrai D, Dinv e R\n",
    "    diagonal_vector = np.diag(M)\n",
    "    D = np.diag(diagonal_vector)\n",
    "    Dinv = np.diag(1 /  diagonal_vector)\n",
    "    R = M - D\n",
    "    \n",
    "    # Realiza o loop principal\n",
    "    x = b\n",
    "    for i in range(max_iter):\n",
    "        x_ = np.dot(Dinv, (b - np.dot(R, x)))\n",
    "        if np.mean(np.abs(x - x_)) < tol:\n",
    "            return x_\n",
    "        x = x_\n",
    "    raise ValueError('método não convergiu!')"
   ]
  },
  {
   "cell_type": "code",
   "execution_count": 47,
   "metadata": {},
   "outputs": [
    {
     "data": {
      "text/plain": [
       "array([ 0.27842366, -0.15081033,  0.90719361])"
      ]
     },
     "execution_count": 47,
     "metadata": {},
     "output_type": "execute_result"
    }
   ],
   "source": [
    "solve(M, b)"
   ]
  },
  {
   "cell_type": "code",
   "execution_count": null,
   "metadata": {
    "collapsed": true
   },
   "outputs": [],
   "source": []
  },
  {
   "cell_type": "code",
   "execution_count": null,
   "metadata": {
    "collapsed": true
   },
   "outputs": [],
   "source": []
  },
  {
   "cell_type": "code",
   "execution_count": null,
   "metadata": {
    "collapsed": true
   },
   "outputs": [],
   "source": []
  },
  {
   "cell_type": "code",
   "execution_count": null,
   "metadata": {
    "collapsed": true
   },
   "outputs": [],
   "source": []
  },
  {
   "cell_type": "code",
   "execution_count": null,
   "metadata": {
    "collapsed": true
   },
   "outputs": [],
   "source": []
  }
 ],
 "metadata": {
  "kernelspec": {
   "display_name": "Python 3",
   "language": "python",
   "name": "python3"
  },
  "language_info": {
   "codemirror_mode": {
    "name": "ipython",
    "version": 3
   },
   "file_extension": ".py",
   "mimetype": "text/x-python",
   "name": "python",
   "nbconvert_exporter": "python",
   "pygments_lexer": "ipython3",
   "version": "3.6.1"
  }
 },
 "nbformat": 4,
 "nbformat_minor": 2
}

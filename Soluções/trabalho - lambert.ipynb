{
 "cells": [
  {
   "cell_type": "code",
   "execution_count": 4,
   "metadata": {
    "collapsed": true
   },
   "outputs": [],
   "source": [
    "import numpy as np\n",
    "from scipy.special import lambertw\n",
    "import matplotlib.pyplot as plt"
   ]
  },
  {
   "cell_type": "code",
   "execution_count": 22,
   "metadata": {},
   "outputs": [],
   "source": [
    "def W(x):\n",
    "    def f(W):\n",
    "        return W * np.exp(W) - x\n",
    "\n",
    "    def f_(W):\n",
    "        \"Derivada de f(W)\"\n",
    "        return np.exp(W) + W * np.exp(W)\n",
    "\n",
    "    # Chute inicial para W\n",
    "    W = x / 2\n",
    "\n",
    "    # Itera o método de Newton várias vezes\n",
    "    while abs(f(W)) > 1e-6:\n",
    "        W = W - f(W) / f_(W)\n",
    "\n",
    "    return W"
   ]
  },
  {
   "cell_type": "code",
   "execution_count": 28,
   "metadata": {},
   "outputs": [
    {
     "data": {
      "image/png": "[encoded data removed]",
      "text/plain": [
       "<matplotlib.figure.Figure at 0x7f347ba0ca20>"
      ]
     },
     "metadata": {},
     "output_type": "display_data"
    }
   ],
   "source": [
    "# Fazemos um gráfico do resultado\n",
    "xs = np.linspace(0, 200, 200)\n",
    "ys_1 = np.real(lambertw(xs))\n",
    "ys_2 = [W(x) for x in xs]\n",
    "\n",
    "plt.plot(xs, ys_1, label='teórico')\n",
    "plt.plot(xs, ys_2, label='obtido')\n",
    "plt.legend()\n",
    "plt.show()"
   ]
  },
  {
   "cell_type": "code",
   "execution_count": null,
   "metadata": {
    "collapsed": true
   },
   "outputs": [],
   "source": []
  }
 ],
 "metadata": {
  "kernelspec": {
   "display_name": "Python 3",
   "language": "python",
   "name": "python3"
  },
  "language_info": {
   "codemirror_mode": {
    "name": "ipython",
    "version": 3
   },
   "file_extension": ".py",
   "mimetype": "text/x-python",
   "name": "python",
   "nbconvert_exporter": "python",
   "pygments_lexer": "ipython3",
   "version": "3.6.1"
  }
 },
 "nbformat": 4,
 "nbformat_minor": 2
}

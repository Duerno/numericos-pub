{
 "cells": [
  {
   "cell_type": "code",
   "execution_count": null,
   "metadata": {
    "collapsed": true
   },
   "outputs": [],
   "source": [
    "import numpy as np\n",
    "import matplotlib.pyplot as plt\n",
    "\n",
    "%matplotlib inline"
   ]
  },
  {
   "cell_type": "markdown",
   "metadata": {},
   "source": [
    "# Método dos Mínimos Quadrados\n",
    "\n",
    "Nesta aula estudaremos o Método dos Mínimos Quadrados (MMQ). Este é um método utilizado para ajustar uma curva a um conjunto de pontos observados. A curva a ser ajustada é definida pela combinação linear de um conjunto de funções ponderadas por coeficientes, a tarefa do MMQ é encontrar os coeficientes tal que o Erro Quadrático seja mínimo.\n",
    "\n",
    "O Erro Quadrático (EQ) é dado pela soma do quadrado das distâncias entre cada ponto e o valor da função avaliada no ponto.\n",
    "\n",
    "Dado um conjunto de $N$ pontos $(x_i,y_i)$ para $1 \\leq i \\leq N$, a distância entre cada ponto e o valor de uma função $f(x)$ genérica definida no intervalo $[x_1, x_N]$ é dada por $r_i$:\n",
    "\n",
    "$$ r_i = y_i - f(x_i) $$\n",
    "\n",
    "O Erro Quadrático $\\epsilon$ é dado pela soma do quadrado das distâncias $r_i$:\n",
    "\n",
    "$$ \\epsilon = \\sum^N_{i=1}{r_i^2} = \\sum^N_{i=1}{(y_i - f(x_i))^2} $$\n",
    "\n",
    "Estudaremos o MMQ para o ajuste de dois tipos de funções: ajuste de retas e ajuste da combinação linear de um conjunto de funções genéricas.\n",
    "\n",
    "Como exemplo, vamos definir de forma aleatória nosso conjunto de pontos $(x_i,y_i)$."
   ]
  },
  {
   "cell_type": "code",
   "execution_count": null,
   "metadata": {},
   "outputs": [],
   "source": [
    "# Definir pontos iniciais\n",
    "x = np.linspace(0, 10, 100)\n",
    "y = 10 * np.random.random((100,)) + 0.5 * x\n",
    "\n",
    "# Visualizar pontos iniciais\n",
    "plt.plot(x, y, 'bo')\n",
    "plt.grid(True)"
   ]
  },
  {
   "cell_type": "markdown",
   "metadata": {},
   "source": [
    "---\n",
    "## Ajuste de retas\n",
    "\n",
    "Queremos encontrar a reta que mais se aproxima a um conjunto de pontos observados, utilizando o Método dos Mínimos Quadrados. Definimos a função da reta $f(x)$ como:\n",
    "\n",
    "$$ f(x) = ax + b $$\n",
    "\n",
    "Nossa tarefa é encontrar os pontos _a_ e _b_ que minimizam as distâncias entre os pontos $(x_i, y_i)$ e nossa função $f(x)$ avaliada nos pontos $x_i$, para $1 \\leq i \\leq N$. A distância $r_i$ entre os pontos $(x_i, y_i)$ e $(x_i, f(x_i)$ é dada por:\n",
    "\n",
    "$$ r_i(a,b) = y_i - f(x_i) $$\n",
    "\n",
    "$$ r_i(a,b) = y_i - ax_i - b $$\n",
    "\n",
    "Seguindo o método, vamos encontrar o Erro Quadrático ($\\epsilon$), definido como a soma dos quadrados das distâncias $r_i$:\n",
    "\n",
    "$$ \\epsilon(a,b) = \\sum^N_{i=1}{r_i(a,b)^2} = \\sum^N_{i=1}{(y_i - ax_i - b)^2} $$\n",
    "\n",
    "Para minimizar o erro $\\epsilon$ (encontrar o ponto de mínimo), basta derivar e igualar a zero. Como $\\epsilon$ é função dos coeficientes _a_ e _b_, é preciso encontrar as derivadas parciais com relação a cada um destes dois parâmetros.\n",
    "\n",
    "$$\n",
    "\\begin{cases}\n",
    "\\dfrac{\\delta \\epsilon}{\\delta a} = 0 \\\\\n",
    "\\dfrac{\\delta \\epsilon}{\\delta b} = 0\n",
    "\\end{cases}\n",
    "$$\n",
    "\n",
    "Encontrando as derivadas parciais, temos:\n",
    "\n",
    "$$\n",
    "\\begin{cases}\n",
    "\\dfrac{\\delta \\epsilon}{\\delta a} = \\sum^N_{i=1}{2(y_i - ax_i - b)(-x_i)} = 0 \\\\\n",
    "\\dfrac{\\delta \\epsilon}{\\delta b} = \\sum^N_{i=1}{2(y_i - ax_i - b)(-1)} = 0\n",
    "\\end{cases}\n",
    "$$\n",
    "\n",
    "Estas equações formam um sistema linear com duas igualdades e duas variáveis _a_ e _b_. Separando os termos em múltiplos de _a_, múltiplos de _b_ e constantes, temos:\n",
    "\n",
    "$$\n",
    "\\begin{cases}\n",
    "a\\sum^N_{i=1}{x_i^2} + b\\sum^N_{i=1}{x_i} = \\sum^N_{i=1}{x_iy_i} \\\\\n",
    "a\\sum^N_{i=1}{x_i} + bN = \\sum^N_{i=1}{y_i}\n",
    "\\end{cases}\n",
    "$$\n",
    "\n",
    "Para encontrar os valores de _a_ e _b_, basta resolver o sistema linear acima. Reescrevendo-o em forma matricial com notação simplificada, temos:\n",
    "\n",
    "$$\n",
    "\\begin{bmatrix}\n",
    "\\sum{x_i^2} & \\sum{x_i} \\\\\n",
    "\\sum{x_i} & N\n",
    "\\end{bmatrix} .\n",
    "\\begin{bmatrix}\n",
    "a \\\\\n",
    "b\n",
    "\\end{bmatrix} = \n",
    "\\begin{bmatrix}\n",
    "\\sum{x_iy_i} \\\\\n",
    "\\sum{y_i}\n",
    "\\end{bmatrix}\n",
    "$$"
   ]
  },
  {
   "cell_type": "markdown",
   "metadata": {},
   "source": [
    "### Implementação\n",
    "\n",
    "Vamos implementar a função `line()` que, dados os vetores de pontos $x$ e $y$, retorne os valores dos coeficientes _a_ e _b_ da função $f(x) = ax + b$ definida acima."
   ]
  },
  {
   "cell_type": "code",
   "execution_count": null,
   "metadata": {
    "collapsed": true
   },
   "outputs": [],
   "source": [
    "def line(x, y):\n",
    "    \"\"\"\n",
    "    Encontrar os valores a e b que melhor aproximam a reta f(x) = ax + b\n",
    "    aos pontos (x, y) dados, utilizando o Método dos Mínimos Quadrados.\n",
    "\n",
    "    Args:\n",
    "        x: pontos no eixo x.\n",
    "        y: pontos no eixo y.\n",
    "    \n",
    "    Returns:\n",
    "        Retorna os valores de a e b no formato: [a, b].\n",
    "    \"\"\"\n",
    "    \n",
    "    # Definindo a matriz à esquerda\n",
    "    left = np.array([[np.sum(x*x), np.sum(x) ],\n",
    "                     [np.sum(x)  , x.shape[0]]])\n",
    "    \n",
    "    # Definindo o vetor à direita\n",
    "    right = np.array([[np.sum(x*y)],\n",
    "                      [np.sum(y)  ]])\n",
    "    \n",
    "    # Resolvendo o sistema linear para encontrar os valores de a e b\n",
    "    [a, b] = np.linalg.solve(left, right)\n",
    "    return [a, b]"
   ]
  },
  {
   "cell_type": "markdown",
   "metadata": {},
   "source": [
    "Agora utilizamos a função criada para encontrar a reta que melhor se ajusta aos pontos ($x_i,y_i)$ definidos no início da aula."
   ]
  },
  {
   "cell_type": "code",
   "execution_count": null,
   "metadata": {},
   "outputs": [],
   "source": [
    "[a, b] = line(x, y)\n",
    "f = a * x + b\n",
    "\n",
    "plt.grid(True)\n",
    "plt.plot(x, y, 'bo')\n",
    "plt.plot(x, f, 'k')"
   ]
  },
  {
   "cell_type": "markdown",
   "metadata": {},
   "source": [
    "## Ajuste de um conjunto de funções genéricas\n",
    "\n",
    "Consideremos a função genérica abaixo:\n",
    "\n",
    "$$ f(x) = \\sum^M_{j=1}{c_jf_j(x)} $$\n",
    "\n",
    "Onde $f_j(x)$ é uma função genérica com um parâmetro $c_j$ constante associado a ela. Dados $N$ pontos $(x_i,y_i)$, nossa tarefa é encontrar os valores de todos os parâmetros $c_j$ de forma que o Erro Quadrático seja o menor possível.\n",
    "\n",
    "A título de exemplo, imaginemos que nossa função $f(x)$ seja uma parábola. As funções $f_j(x)$ serão: $f_1(x) = x^2$, $f_2(x) = x$ e $f_3(x) = 1$.\n",
    "\n",
    "Para que o sistema tenha solução, o número de funções ($M$) deve ser menor que o número de pontos ($N$).\n",
    "\n",
    "Utilizando a definição da distância $r_i$, temos:\n",
    "\n",
    "$$\n",
    "\\begin{gather}\n",
    "r_i = y_i - f(x_i) \\\\\n",
    "r_i(c_1, c_2, \\cdots, c_M) = y_i - (c_1f_1(x_i) + c_2f_2(x_i) + \\cdots + c_Mf_M(x_i))\n",
    "\\end{gather}\n",
    "$$\n",
    "\n",
    "Para todos os pontos, temos as distâncias da forma:\n",
    "\n",
    "$$\n",
    "\\begin{cases}\n",
    "r_1(c_1, c_2, \\cdots, c_M) = y_1 - (c_1f_1(x_1) + c_2f_2(x_1) + \\cdots + c_Mf_M(x_1)) \\\\\n",
    "r_2(c_1, c_2, \\cdots, c_M) = y_2 - (c_1f_1(x_2) + c_2f_2(x_2) + \\cdots + c_Mf_M(x_2)) \\\\\n",
    "\\vdots \\\\\n",
    "r_N(c_1, c_2, \\cdots, c_M) = y_N - (c_1f_1(x_N) + c_2f_2(x_N) + \\cdots + c_Mf_M(x_N)) \\\\\n",
    "\\end{cases}\n",
    "$$\n",
    "\n",
    "Mudando para a forma matricial, temos:\n",
    "\n",
    "$$\n",
    "\\begin{bmatrix}\n",
    "r_1 \\\\\n",
    "r_2 \\\\\n",
    "\\vdots \\\\\n",
    "r_N\n",
    "\\end{bmatrix} = \n",
    "\\begin{bmatrix}\n",
    "y_1 \\\\\n",
    "y_2 \\\\\n",
    "\\vdots \\\\\n",
    "y_N\n",
    "\\end{bmatrix} - \n",
    "\\begin{bmatrix}\n",
    "f_1(x_1) & f_2(x_1) & \\cdots & f_M(x_1) \\\\\n",
    "f_1(x_2) & f_2(x_2) & \\cdots & f_M(x_2) \\\\\n",
    "\\vdots & \\vdots & \\ddots & \\vdots \\\\\n",
    "f_1(x_N) & f_2(x_N) & \\cdots & f_M(x_N)\n",
    "\\end{bmatrix} . \n",
    "\\begin{bmatrix}\n",
    "c_1 \\\\\n",
    "c_2 \\\\\n",
    "\\vdots \\\\\n",
    "c_M\n",
    "\\end{bmatrix}\n",
    "$$\n",
    "\n",
    "Chamaremos o vetor de distâncias de $R$, o vetor de $y_i$ de $Y$, a matriz de $f_j(x_i)$ de F e o vetor de coeficientes de $C$. Então:\n",
    "\n",
    "$$ R = Y - F.C $$\n",
    "\n",
    "O Erro Quadrático $\\epsilon$ é dado por:\n",
    "\n",
    "$$ \\epsilon = \\sum^N_{i=1}{r_i^2} $$\n",
    "\n",
    "Utilizando o vetor $R$, podemos reescrever $\\epsilon$ da forma:\n",
    "\n",
    "$$ \\epsilon = R^T . R $$\n",
    "\n",
    "Onde $T$ é o símbolo para a matriz _transposta_.\n",
    "\n",
    "Sabendo que $R = Y - F.C$, temos:\n",
    "\n",
    "$$\n",
    "\\epsilon = (Y - F.C)^T.(Y - F.C) \\\\\n",
    "\\epsilon = Y^TY - C^TF^TY - Y^TFC + C^TF^TFC\n",
    "$$\n",
    "\n",
    "Os três termos acima são escalares, já que $\\epsilon$ é um escalar. Como o termo $Y^TFC$ é um escalar, então:\n",
    "\n",
    "$$ Y^TFC = (Y^TFC)^T = C^TF^TY$$\n",
    "\n",
    "E então:\n",
    "\n",
    "$$ \\epsilon = Y^TY - 2C^TF^TY + C^TF^TFC $$\n",
    "\n",
    "Para encontrar os coeficientes $C$ que minimizam o Erro Quadrático, é preciso derivar e igualar a zero com relação a cada um dos coeficientes $c_j$.\n",
    "\n",
    "$$\n",
    "\\dfrac{\\delta \\epsilon}{\\delta C} = -2F^TY + 2F^TFC = 0 \\\\\n",
    "F^TFC = F^TY\n",
    "$$\n",
    "\n",
    "A equação acima é chamada de equação normal. Para encontrar os coeficientes $C$, basta resolver este sistema linear."
   ]
  },
  {
   "cell_type": "markdown",
   "metadata": {},
   "source": [
    "### Implementação\n",
    "\n",
    "Vamos implementar a função `mmq()` que, dados os vetores $x$ e $y$ dos pontos $(x_i,y_i)$ e o conjunto de funções $f_j(x)$, retorne os valores dos coeficientes $C$."
   ]
  },
  {
   "cell_type": "code",
   "execution_count": null,
   "metadata": {
    "collapsed": true
   },
   "outputs": [],
   "source": [
    "def mmq(x, y, f):\n",
    "    \"\"\"\n",
    "    Encontrar os valores a e b que melhor aproximam a função genérica f(x):\n",
    "    f(x) = c0 * f[0](x) + c1 * f[1](x) + ... + c{M-1} * f[M-1](x)\n",
    "    aos pontos (x, y) dados, utilizando o Método dos Mínimos Quadrados Genérico.\n",
    "\n",
    "    Args:\n",
    "        x: pontos no eixo x.\n",
    "        y: pontos no eixo y.\n",
    "        f: funções de x genéricas.\n",
    "    \n",
    "    Returns:\n",
    "        Retorna os valores dos coeficientes C no formato: [c0, c1, ..., c{M-1}].\n",
    "    \"\"\"\n",
    "    \n",
    "    # Definindo a matriz F\n",
    "    F = np.ones((len(x), len(f)))\n",
    "    for j in range(len(f)):\n",
    "        F[:,j] = f[j](x)\n",
    "    \n",
    "    # Definindo a matriz à esquerda\n",
    "    left = np.dot(F.transpose(), F)\n",
    "    \n",
    "    # Definindo o vetor à direita\n",
    "    right = np.dot(F.transpose(), y)\n",
    "    \n",
    "    # Resolvendo o sistema linear para encontrar os valores dos coeficientes C\n",
    "    C = np.linalg.solve(left, right)\n",
    "    return C"
   ]
  },
  {
   "cell_type": "markdown",
   "metadata": {},
   "source": [
    "Vamos definir um conjunto de funções $f_j(x)$ que definem uma parábola."
   ]
  },
  {
   "cell_type": "code",
   "execution_count": null,
   "metadata": {
    "collapsed": true
   },
   "outputs": [],
   "source": [
    "def f0(x):\n",
    "    return x**2\n",
    "def f1(x):\n",
    "    return x\n",
    "def f2(x):\n",
    "    return 1\n",
    "\n",
    "f = [f0, f1, f2]"
   ]
  },
  {
   "cell_type": "markdown",
   "metadata": {},
   "source": [
    "Agora utilizamos o Método dos Mínimos Quadrados para encontrar os coeficientes $C$ que melhor ajustam a função $f(x)$ criada aos pontos ($x_i,y_i)$ definidos no início da aula."
   ]
  },
  {
   "cell_type": "code",
   "execution_count": null,
   "metadata": {},
   "outputs": [],
   "source": [
    "C = mmq(x, y, f)\n",
    "\n",
    "fx = np.zeros((len(x)))\n",
    "for j in range(len(f)):\n",
    "    fx = fx + C[j] * f[j](x)\n",
    "\n",
    "plt.grid(True)\n",
    "plt.plot(x, y, 'bo')\n",
    "plt.plot(x, fx, 'k')"
   ]
  }
 ],
 "metadata": {
  "kernelspec": {
   "display_name": "Python 3",
   "language": "python",
   "name": "python3"
  },
  "language_info": {
   "codemirror_mode": {
    "name": "ipython",
    "version": 3
   },
   "file_extension": ".py",
   "mimetype": "text/x-python",
   "name": "python",
   "nbconvert_exporter": "python",
   "pygments_lexer": "ipython3",
   "version": "3.6.1"
  }
 },
 "nbformat": 4,
 "nbformat_minor": 2
}

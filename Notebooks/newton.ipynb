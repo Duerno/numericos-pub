{
 "cells": [
  {
   "cell_type": "code",
   "execution_count": 37,
   "metadata": {
    "collapsed": true
   },
   "outputs": [],
   "source": [
    "from math import *\n",
    "import matplotlib.pyplot as plt\n",
    "import numpy as np"
   ]
  },
  {
   "cell_type": "code",
   "execution_count": 36,
   "metadata": {
    "collapsed": true
   },
   "outputs": [],
   "source": [
    "def derivada(f, epsilon=1e-6):\n",
    "    \"\"\"\n",
    "    Retorna a derivada de f(x) usando uma aproximação do\n",
    "    limite com um determinado valor de epsilon.\n",
    "    \"\"\"\n",
    "    def df(x):\n",
    "        return (f(x + epsilon) - f(x)) / epsilon\n",
    "    return df"
   ]
  },
  {
   "cell_type": "code",
   "execution_count": 41,
   "metadata": {},
   "outputs": [
    {
     "data": {
      "image/png": "[encoded data removed]",
      "text/plain": [
       "<matplotlib.figure.Figure at 0x7fb8d8bed940>"
      ]
     },
     "metadata": {},
     "output_type": "display_data"
    }
   ],
   "source": [
    "X = np.linspace(0, 10, 50)\n",
    "\n",
    "f = np.sin\n",
    "df = derivada(f)\n",
    "df_real = np.cos\n",
    "\n",
    "plt.plot(X, df_real(X))\n",
    "plt.plot(X, df(X))\n",
    "plt.show()"
   ]
  },
  {
   "cell_type": "markdown",
   "metadata": {},
   "source": [
    "# Método de Newton"
   ]
  },
  {
   "cell_type": "code",
   "execution_count": 57,
   "metadata": {},
   "outputs": [],
   "source": [
    "def newton(x0, f, df=None, N=20, xtol=1e-10, ytol=1e-10):\n",
    "    \"\"\"\n",
    "    Retorna o zero da função f(x) utilizando o método de Newton.\n",
    "    \n",
    "    Args:\n",
    "        x0: ponto inicial da iteração\n",
    "        f: função de busca\n",
    "        df: derivada de f(x)\n",
    "        N: número máximo de iterações\n",
    "        xtol: variação mínima em x entre duas iterações\n",
    "        ytol: tolerância em f(x)\n",
    "        \n",
    "    O algoritmo avança por no máximo N iterações e interrompe\n",
    "    quando a primeira destas condições for satisfeita:\n",
    "    \n",
    "    1) o número máximo de iterações foi atingido\n",
    "    2) o valor de f(x) ficou menor em valor absoluto que ytol \n",
    "    3) o deslocamento de x entre duas iterações sucessivas é menor\n",
    "       que xtol.\n",
    "    \"\"\"\n",
    "    # Se o usuário não passar a derivada, utiliza uma\n",
    "    # aproximação por diferenças finitas\n",
    "    if df is None:\n",
    "        df = derivada(f)\n",
    "        \n",
    "    x = x0\n",
    "    for i in range(N):\n",
    "        y = f(x)\n",
    "        dx = y / df(x)\n",
    "        x = x - dx\n",
    "        \n",
    "        if abs(y) < ytol or abs(dx) < xtol:\n",
    "            break\n",
    "            \n",
    "    return x"
   ]
  },
  {
   "cell_type": "code",
   "execution_count": 58,
   "metadata": {},
   "outputs": [
    {
     "name": "stdout",
     "output_type": "stream",
     "text": [
      "100000 loops, best of 3: 3.95 µs per loop\n",
      "10000 loops, best of 3: 21.6 µs per loop\n"
     ]
    }
   ],
   "source": [
    "%timeit newton(4, sin)\n",
    "%timeit newton(4, sin, ytol=0, xtol=0)"
   ]
  },
  {
   "cell_type": "markdown",
   "metadata": {},
   "source": [
    "pi\n",
    "\n",
    "\n",
    "\n",
    "\n",
    "\n",
    "\n",
    "\n",
    "\n",
    "\n",
    "\n",
    "\n",
    "\n",
    "\n",
    "\n",
    "\n",
    "\n",
    "\n",
    "\n",
    "\n",
    "\n",
    "\n",
    "\n",
    "\n",
    "\n",
    "\n",
    "\n"
   ]
  },
  {
   "cell_type": "code",
   "execution_count": null,
   "metadata": {
    "collapsed": true
   },
   "outputs": [],
   "source": []
  },
  {
   "cell_type": "code",
   "execution_count": 20,
   "metadata": {},
   "outputs": [
    {
     "data": {
      "text/plain": [
       "6.123233995736766e-17"
      ]
     },
     "execution_count": 20,
     "metadata": {},
     "output_type": "execute_result"
    }
   ],
   "source": [
    "cos(pi/2)"
   ]
  },
  {
   "cell_type": "code",
   "execution_count": 21,
   "metadata": {},
   "outputs": [
    {
     "data": {
      "text/plain": [
       "1.5707963267948966"
      ]
     },
     "execution_count": 21,
     "metadata": {},
     "output_type": "execute_result"
    }
   ],
   "source": [
    "pi /2"
   ]
  },
  {
   "cell_type": "code",
   "execution_count": 22,
   "metadata": {
    "collapsed": true
   },
   "outputs": [],
   "source": [
    "import math"
   ]
  },
  {
   "cell_type": "code",
   "execution_count": null,
   "metadata": {
    "collapsed": true
   },
   "outputs": [],
   "source": []
  }
 ],
 "metadata": {
  "kernelspec": {
   "display_name": "Python 3",
   "language": "python",
   "name": "python3"
  },
  "language_info": {
   "codemirror_mode": {
    "name": "ipython",
    "version": 3
   },
   "file_extension": ".py",
   "mimetype": "text/x-python",
   "name": "python",
   "nbconvert_exporter": "python",
   "pygments_lexer": "ipython3",
   "version": "3.6.1"
  }
 },
 "nbformat": 4,
 "nbformat_minor": 2
}
